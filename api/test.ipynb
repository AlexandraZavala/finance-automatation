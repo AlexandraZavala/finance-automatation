{
 "cells": [
  {
   "cell_type": "code",
   "execution_count": 22,
   "metadata": {},
   "outputs": [],
   "source": [
    "import requests\n",
    "\n",
    "url = \"http://127.0.0.1:8000/perform_rag\"\n",
    "\n",
    "payload = {\n",
    "    \"query\": \"What are some companies that manufacture consumer hardware?\",\n",
    "    \n",
    "}\n",
    "\n",
    "try:\n",
    "   headers = {\"Content-Type\": \"application/json\"}\n",
    "   response = requests.post(url, json=payload, headers=headers)\n",
    "   #response = requests.get(url, headers=headers )\n",
    "   \n",
    "except requests.exceptions.RequestException as e:\n",
    "    print(f\"Error llamando a la API: {e}\")"
   ]
  }
 ],
 "metadata": {
  "kernelspec": {
   "display_name": "Python 3",
   "language": "python",
   "name": "python3"
  },
  "language_info": {
   "codemirror_mode": {
    "name": "ipython",
    "version": 3
   },
   "file_extension": ".py",
   "mimetype": "text/x-python",
   "name": "python",
   "nbconvert_exporter": "python",
   "pygments_lexer": "ipython3",
   "version": "3.11.4"
  }
 },
 "nbformat": 4,
 "nbformat_minor": 2
}
